{
 "cells": [
  {
   "cell_type": "code",
   "execution_count": 1,
   "metadata": {},
   "outputs": [],
   "source": [
    "import h5py\n",
    "import scipy.io as io\n",
    "import PIL.Image as Image\n",
    "import numpy as np\n",
    "import os\n",
    "import glob\n",
    "from matplotlib import pyplot as plt\n",
    "from scipy.ndimage.filters import gaussian_filter \n",
    "import scipy\n",
    "import json\n",
    "import torchvision.transforms.functional as F\n",
    "from matplotlib import cm as CM\n",
    "from image import *\n",
    "from model import CSRNet\n",
    "import torch\n",
    "%matplotlib inline"
   ]
  },
  {
   "cell_type": "code",
   "execution_count": 2,
   "metadata": {},
   "outputs": [],
   "source": [
    "from torchvision import datasets, transforms\n",
    "transform=transforms.Compose([\n",
    "                        transforms.ToTensor(), # convert to pytorch tensor\n",
    "                        transforms.Normalize(mean=[0.485, 0.456, 0.406], std=[0.229, 0.224, 0.225]),\n",
    "                        ])"
   ]
  },
  {
   "cell_type": "code",
   "execution_count": 3,
   "metadata": {},
   "outputs": [],
   "source": [
    "root = 'data/ShanghaiTech_Crowd_Counting_Dataset/'"
   ]
  },
  {
   "cell_type": "code",
   "execution_count": 6,
   "metadata": {},
   "outputs": [],
   "source": [
    "#now generate the ShanghaiA's ground truth\n",
    "part_A_train = os.path.join(root,'part_A_final/train_data','images')\n",
    "part_A_test = os.path.join(root,'part_A_final/test_data','images')\n",
    "part_B_train = os.path.join(root,'part_B_final/train_data','images')\n",
    "part_B_test = os.path.join(root,'part_B_final/test_data','images')\n",
    "path_sets = [part_A_test] # to perform prediction on test_data "
   ]
  },
  {
   "cell_type": "code",
   "execution_count": 7,
   "metadata": {},
   "outputs": [
    {
     "data": {
      "text/plain": [
       "['data/ShanghaiTech_Crowd_Counting_Dataset/part_A_final/test_data/images']"
      ]
     },
     "execution_count": 7,
     "metadata": {},
     "output_type": "execute_result"
    }
   ],
   "source": [
    "path_sets"
   ]
  },
  {
   "cell_type": "code",
   "execution_count": 8,
   "metadata": {},
   "outputs": [],
   "source": [
    "img_paths = []\n",
    "for path in path_sets:\n",
    "    for img_path in glob.glob(os.path.join(path, '*.jpg')):\n",
    "        img_paths.append(img_path)"
   ]
  },
  {
   "cell_type": "markdown",
   "metadata": {},
   "source": [
    "### Call CSRNet model\n",
    "It willl download imagenet pretrained vgg16 model to system path (/root/.torch/models)"
   ]
  },
  {
   "cell_type": "code",
   "execution_count": 9,
   "metadata": {},
   "outputs": [],
   "source": [
    "model = CSRNet()"
   ]
  },
  {
   "cell_type": "code",
   "execution_count": 10,
   "metadata": {},
   "outputs": [
    {
     "data": {
      "text/plain": [
       "model.CSRNet"
      ]
     },
     "execution_count": 10,
     "metadata": {},
     "output_type": "execute_result"
    }
   ],
   "source": [
    "type(model)"
   ]
  },
  {
   "cell_type": "code",
   "execution_count": 23,
   "metadata": {},
   "outputs": [],
   "source": [
    "#print(str(model))"
   ]
  },
  {
   "cell_type": "code",
   "execution_count": 11,
   "metadata": {},
   "outputs": [],
   "source": [
    "model = model.cuda() # move to GPU CUDA\n",
    "# model.to('cuda:1')"
   ]
  },
  {
   "cell_type": "code",
   "execution_count": 11,
   "metadata": {},
   "outputs": [
    {
     "name": "stdout",
     "output_type": "stream",
     "text": [
      "PartAmodel_best.pth.tar  partBmodel_best.pth.tar\r\n"
     ]
    }
   ],
   "source": [
    "!ls data/models"
   ]
  },
  {
   "cell_type": "code",
   "execution_count": 12,
   "metadata": {},
   "outputs": [],
   "source": [
    "# checkpoint = torch.load('model_best.pth.tar')\n",
    "checkpoint = torch.load('data/models/PartAmodel_best.pth.tar') # load pth weight file"
   ]
  },
  {
   "cell_type": "code",
   "execution_count": 14,
   "metadata": {},
   "outputs": [
    {
     "data": {
      "text/plain": [
       "['arch', 'epoch', 'state_dict', 'optimizer', 'best_prec1']"
      ]
     },
     "execution_count": 14,
     "metadata": {},
     "output_type": "execute_result"
    }
   ],
   "source": [
    "checkpoint.keys()"
   ]
  },
  {
   "cell_type": "code",
   "execution_count": 16,
   "metadata": {},
   "outputs": [
    {
     "name": "stdout",
     "output_type": "stream",
     "text": [
      "None\n"
     ]
    }
   ],
   "source": [
    "print(checkpoint['arch'])"
   ]
  },
  {
   "cell_type": "code",
   "execution_count": 17,
   "metadata": {},
   "outputs": [
    {
     "name": "stdout",
     "output_type": "stream",
     "text": [
      "376\n"
     ]
    }
   ],
   "source": [
    "print(checkpoint['epoch'])"
   ]
  },
  {
   "cell_type": "code",
   "execution_count": 19,
   "metadata": {},
   "outputs": [
    {
     "data": {
      "text/plain": [
       "collections.OrderedDict"
      ]
     },
     "execution_count": 19,
     "metadata": {},
     "output_type": "execute_result"
    }
   ],
   "source": [
    "type(checkpoint['state_dict']) # weights"
   ]
  },
  {
   "cell_type": "code",
   "execution_count": 21,
   "metadata": {},
   "outputs": [],
   "source": [
    "# checkpoint['state_dict'].keys()"
   ]
  },
  {
   "cell_type": "code",
   "execution_count": 22,
   "metadata": {},
   "outputs": [
    {
     "name": "stdout",
     "output_type": "stream",
     "text": [
      "tensor(65.9016, device='cuda:0')\n"
     ]
    }
   ],
   "source": [
    "print(checkpoint['best_prec1'])"
   ]
  },
  {
   "cell_type": "code",
   "execution_count": 24,
   "metadata": {},
   "outputs": [
    {
     "data": {
      "text/plain": [
       "182"
      ]
     },
     "execution_count": 24,
     "metadata": {},
     "output_type": "execute_result"
    }
   ],
   "source": [
    "len(img_paths)"
   ]
  },
  {
   "cell_type": "code",
   "execution_count": 13,
   "metadata": {
    "scrolled": true
   },
   "outputs": [
    {
     "name": "stdout",
     "output_type": "stream",
     "text": [
      "0 291.0068664550781\n",
      "1 954.1450500488281\n",
      "2 1396.2145080566406\n",
      "3 1719.8500061035156\n",
      "4 1959.8150024414062\n",
      "5 2513.0576171875\n",
      "6 3775.0765380859375\n",
      "7 4183.470703125\n",
      "8 5495.567626953125\n",
      "9 5836.9293212890625\n",
      "10 6157.234558105469\n",
      "11 6692.102722167969\n",
      "12 7898.266052246094\n",
      "13 9057.491394042969\n",
      "14 9597.601440429688\n",
      "15 9983.790710449219\n",
      "16 10122.806640625\n",
      "17 10368.40788269043\n",
      "18 11590.929611206055\n",
      "19 11911.221115112305\n",
      "20 13586.018112182617\n",
      "21 13935.525527954102\n",
      "22 14360.905960083008\n",
      "23 14775.20344543457\n",
      "24 14954.519912719727\n",
      "25 16279.127578735352\n",
      "26 17545.904678344727\n",
      "27 17681.908630371094\n",
      "28 17966.967163085938\n",
      "29 18367.57339477539\n",
      "30 18949.206939697266\n",
      "31 20058.462310791016\n",
      "32 20515.96841430664\n",
      "33 20611.398696899414\n",
      "34 21263.752700805664\n",
      "35 22583.10792541504\n",
      "36 22899.3370513916\n",
      "37 23757.247817993164\n",
      "38 24102.850296020508\n",
      "39 24306.790145874023\n",
      "40 24668.67726135254\n",
      "41 25048.823318481445\n",
      "42 25966.328018188477\n",
      "43 26238.588272094727\n",
      "44 26710.203323364258\n",
      "45 26901.019760131836\n",
      "46 27399.823318481445\n",
      "47 27746.051071166992\n",
      "48 28228.399307250977\n",
      "49 28786.53480529785\n",
      "50 29779.066787719727\n",
      "51 30912.66749572754\n",
      "52 31350.3438873291\n",
      "53 31507.154510498047\n",
      "54 31709.90902709961\n",
      "55 32268.34994506836\n",
      "56 32551.779693603516\n",
      "57 32944.018005371094\n",
      "58 33415.09341430664\n",
      "59 33766.74221801758\n",
      "60 34284.36184692383\n",
      "61 34780.81857299805\n",
      "62 35150.2063293457\n",
      "63 35396.03700256348\n",
      "64 35791.65901184082\n",
      "65 37016.56379699707\n",
      "66 37366.486587524414\n",
      "67 37754.17707824707\n",
      "68 38061.00917053223\n",
      "69 38396.52586364746\n",
      "70 39659.55918884277\n",
      "71 40239.60057067871\n",
      "72 41065.18882751465\n",
      "73 41337.99745178223\n",
      "74 41923.39973449707\n",
      "75 42601.45649719238\n",
      "76 42956.502029418945\n",
      "77 43467.615158081055\n",
      "78 44373.28923034668\n",
      "79 44910.866928100586\n",
      "80 45350.502853393555\n",
      "81 45698.906814575195\n",
      "82 46082.38432312012\n",
      "83 46460.29920959473\n",
      "84 47545.07850646973\n",
      "85 47868.21675109863\n",
      "86 49562.74238586426\n",
      "87 49826.00282287598\n",
      "88 49966.133544921875\n",
      "89 50330.95098876953\n",
      "90 50659.72821044922\n",
      "91 51910.04656982422\n",
      "92 52738.31329345703\n",
      "93 53166.34112548828\n",
      "94 54388.15216064453\n",
      "95 54998.65637207031\n",
      "96 55243.92218017578\n",
      "97 55765.475646972656\n",
      "98 56005.418716430664\n",
      "99 56484.650314331055\n",
      "100 57144.514877319336\n",
      "101 57647.044692993164\n",
      "102 57976.463607788086\n",
      "103 58646.56748962402\n",
      "104 58904.31672668457\n",
      "105 59298.19618225098\n",
      "106 59667.52967834473\n",
      "107 61002.476821899414\n",
      "108 61301.711502075195\n",
      "109 61732.07020568848\n",
      "110 62174.10176086426\n",
      "111 62723.25569152832\n",
      "112 63027.082778930664\n",
      "113 63334.18006896973\n",
      "114 63852.46815490723\n",
      "115 64206.13166809082\n",
      "116 64509.68251037598\n",
      "117 64953.52494812012\n",
      "118 65110.480728149414\n",
      "119 65433.56141662598\n",
      "120 65710.57817077637\n",
      "121 66150.06941223145\n",
      "122 66696.29493713379\n",
      "123 66900.82583618164\n",
      "124 67392.79147338867\n",
      "125 67957.78890991211\n",
      "126 68223.23083496094\n",
      "127 68474.23515319824\n",
      "128 69196.6019744873\n",
      "129 70184.2884979248\n",
      "130 70936.1561126709\n",
      "131 71370.66081237793\n",
      "132 71564.35997009277\n",
      "133 71846.96336364746\n",
      "134 71931.2002029419\n",
      "135 72045.21654510498\n",
      "136 72553.91826629639\n",
      "137 72865.37252044678\n",
      "138 73288.33205413818\n",
      "139 74185.9196395874\n",
      "140 74445.48372650146\n",
      "141 75039.39345550537\n",
      "142 75298.40196990967\n",
      "143 75691.94313812256\n",
      "144 75991.5241317749\n",
      "145 76330.04219818115\n",
      "146 76701.34273529053\n",
      "147 76969.24703216553\n",
      "148 77184.6851272583\n",
      "149 77897.15259552002\n",
      "150 78422.18537139893\n",
      "151 78627.0877456665\n",
      "152 79093.43704986572\n",
      "153 79568.71753692627\n",
      "154 81905.70532989502\n",
      "155 82153.48526763916\n",
      "156 83606.88626861572\n",
      "157 83876.96970367432\n",
      "158 83968.35145568848\n",
      "159 84166.59791564941\n",
      "160 84434.42762756348\n",
      "161 85058.94776916504\n",
      "162 85255.33329772949\n",
      "163 85543.56330871582\n",
      "164 86509.69734191895\n",
      "165 86790.23844909668\n",
      "166 87094.96726989746\n",
      "167 87288.38021850586\n",
      "168 87954.37203979492\n",
      "169 88411.92080688477\n",
      "170 89134.19192504883\n",
      "171 89774.46029663086\n",
      "172 90036.42172241211\n",
      "173 91058.41995239258\n",
      "174 91758.30722045898\n",
      "175 92293.00473022461\n",
      "176 92629.43551635742\n",
      "177 93043.75164794922\n",
      "178 93278.3736114502\n",
      "179 94714.53804016113\n",
      "180 94977.0113067627\n",
      "181 95378.0919342041\n",
      "524.0554501879346\n"
     ]
    }
   ],
   "source": [
    "mae = 0\n",
    "# Step through image one-by-one, it would be more efficient to use a data loader (batch-wise)\n",
    "for i in xrange(len(img_paths)): # 182 test images \n",
    "    img = 255.0 * F.to_tensor(Image.open(img_paths[i]).convert('RGB')) # scale to [0..255]\n",
    "    # subtract the dataset image mean\n",
    "    img[0,:,:]=img[0,:,:]-92.8207477031 \n",
    "    img[1,:,:]=img[1,:,:]-95.2757037428\n",
    "    img[2,:,:]=img[2,:,:]-104.877445883\n",
    "    img = img.cuda() # move input to GPU CUDA\n",
    "    #img = transform(Image.open(img_paths[i]).convert('RGB')).cuda()\n",
    "    gt_file = h5py.File(img_paths[i].replace('.jpg','.h5').replace('images','ground_truth'),'r')#load gt h5 file\n",
    "    groundtruth = np.asarray(gt_file['density']) # get gt density map\n",
    "    output = model(img.unsqueeze(0)) # add one \n",
    "    mae += abs(output.detach().cpu().sum().numpy()-np.sum(groundtruth))\n",
    "    print i,mae\n"
   ]
  },
  {
   "cell_type": "code",
   "execution_count": 14,
   "metadata": {},
   "outputs": [
    {
     "name": "stdout",
     "output_type": "stream",
     "text": [
      "524.0554501879346\n"
     ]
    }
   ],
   "source": [
    "print(mae/len(img_paths)) # obtain MAE"
   ]
  },
  {
   "cell_type": "markdown",
   "metadata": {},
   "source": [
    "### Visualize the prediction output"
   ]
  },
  {
   "cell_type": "code",
   "execution_count": null,
   "metadata": {},
   "outputs": [],
   "source": []
  }
 ],
 "metadata": {
  "kernelspec": {
   "display_name": "Python 2",
   "language": "python",
   "name": "python2"
  },
  "language_info": {
   "codemirror_mode": {
    "name": "ipython",
    "version": 2
   },
   "file_extension": ".py",
   "mimetype": "text/x-python",
   "name": "python",
   "nbconvert_exporter": "python",
   "pygments_lexer": "ipython2",
   "version": "2.7.14"
  },
  "widgets": {
   "state": {},
   "version": "1.1.2"
  }
 },
 "nbformat": 4,
 "nbformat_minor": 2
}
